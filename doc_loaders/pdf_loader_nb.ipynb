{
 "cells": [
  {
   "cell_type": "markdown",
   "metadata": {},
   "source": [
    "# Document Loader and Q&A\n",
    "This script will load all PDFs from a directory and then upload to a vector store"
   ]
  },
  {
   "cell_type": "markdown",
   "metadata": {},
   "source": [
    "PyPDFDirectoryLoader loads all PDFs in a folder one page at a time (e.g. a PDF with 6 pages will produce a loader with a length of six)."
   ]
  },
  {
   "cell_type": "code",
   "execution_count": null,
   "metadata": {},
   "outputs": [],
   "source": [
    "# Import the necessary packages\n",
    "from langchain.document_loaders import PyPDFDirectoryLoader\n",
    "from langchain.document_loaders import PyMuPDFLoader\n",
    "from langchain.document_loaders import UnstructuredPDFLoader\n",
    "\n",
    "from langchain.text_splitter import RecursiveCharacterTextSplitter\n",
    "\n",
    "import os\n",
    "from dotenv import load_dotenv"
   ]
  },
  {
   "cell_type": "code",
   "execution_count": null,
   "metadata": {},
   "outputs": [],
   "source": [
    "\n",
    "\n",
    "OPENAI_API_KEY = load_dotenv(\"OPENAI_API_KEY\")\n",
    "\n",
    "target_directory = \"/home/stubbs/Documents/pdfs/\"\n",
    "files = []\n",
    "\n",
    "for pdf_file in os.listdir(target_directory):\n",
    "    print(pdf_file)\n",
    "    files.append(target_directory+pdf_file)\n",
    "print(f'\\nThere are {len(files)} PDF files to load.')\n",
    "    \n",
    "    # loader = PyMuPDFLoader(target_directory+pdf_file)\n",
    "    # data = loader.load()\n",
    "    # print(data[0])"
   ]
  },
  {
   "cell_type": "markdown",
   "metadata": {},
   "source": [
    "## Load Data\n",
    "1. Load a document\n",
    "2. Check length and chunk if necessary\n",
    "3. Use OpenAI Embeddings"
   ]
  },
  {
   "cell_type": "code",
   "execution_count": null,
   "metadata": {},
   "outputs": [],
   "source": []
  },
  {
   "cell_type": "code",
   "execution_count": null,
   "metadata": {},
   "outputs": [],
   "source": [
    "text_list = []\n",
    "for count, doc in enumerate(files, start=1):\n",
    "    print('--------------')\n",
    "    print(f'Document #: {count}')\n",
    "    loader = UnstructuredPDFLoader(doc)\n",
    "    data = loader.load()\n",
    "    text_splitter = RecursiveCharacterTextSplitter(\n",
    "    chunk_size = 1000,\n",
    "    chunk_overlap = 0,\n",
    "    length_function = len,\n",
    "    )\n",
    "    texts=text_splitter.split_documents(data)\n",
    "    text_list.append(texts) \n",
    "    print(f'This document was split into {len(texts)} documents')\n",
    "    print(texts)\n",
    "    # print(data[0])\n",
    "    print('--------------')\n",
    "    print(f'\\n')"
   ]
  },
  {
   "cell_type": "markdown",
   "metadata": {},
   "source": [
    "## Create embeddings of docs to get them ready for semantic search"
   ]
  },
  {
   "cell_type": "code",
   "execution_count": null,
   "metadata": {},
   "outputs": [],
   "source": [
    "from langchain.vectorstores import Pinecone\n",
    "from langchain.embeddings.openai import OpenAIEmbeddings\n",
    "import pinecone\n"
   ]
  },
  {
   "cell_type": "code",
   "execution_count": null,
   "metadata": {},
   "outputs": [],
   "source": [
    "embeddings = OpenAIEmbeddings(openai_api_key=OPENAI_API_KEY)"
   ]
  },
  {
   "cell_type": "code",
   "execution_count": null,
   "metadata": {},
   "outputs": [],
   "source": [
    "# Initialize Pinecone\n",
    "pinecone.init(\n",
    "    api_key=os.getenv(\"PINECONE_API_KEY\"),\n",
    "    environment = \"us-east4-gcp\"\n",
    ")\n",
    "index_name=\"langchain2\""
   ]
  },
  {
   "cell_type": "code",
   "execution_count": null,
   "metadata": {},
   "outputs": [],
   "source": [
    "text_splitter = RecursiveCharacterTextSplitter(\n",
    "chunk_size = 400,\n",
    "chunk_overlap = 20,\n",
    "length_function = len,\n",
    "separators=[\"\\n\\n\", \"\\n\", \" \", \"\"]\n",
    ")\n",
    "index = pinecone.GRPCIndex(index_name)\n",
    "index.describe_index_stats()\n",
    "\n",
    "# data_list=[]\n",
    "# for count, doc in enumerate(files, start=1):\n",
    "#     print('--------------')\n",
    "#     print(f'Document #: {count}')\n",
    "#     loader = UnstructuredPDFLoader(doc)\n",
    "#     data = loader.load()\n",
    "#     texts = text_splitter.split_documents(data)\n",
    "    \n",
    "    \n",
    "#     data_list.append(data)\n",
    "\n",
    "# for data in data_list:\n",
    "#     texts=text_splitter.split_documents(data)\n",
    "#     print(texts)\n",
    "    \n",
    "# print(f'This document was split into {len(texts)} documents')\n",
    "# print(texts)\n",
    "# Pinecone.from_texts(\n",
    "#     [t.page_content for t in texts],\n",
    "#     embeddings,\n",
    "#     index_name=index_name\n",
    "# )\n",
    "# print(data[0])\n",
    "# print('--------------')\n",
    "# print(f'\\n')"
   ]
  },
  {
   "cell_type": "code",
   "execution_count": null,
   "metadata": {},
   "outputs": [],
   "source": [
    "docsearch = Pinecone.from_texts([t.page_content for t in text_list], embeddings, index_name=index_name)"
   ]
  },
  {
   "cell_type": "markdown",
   "metadata": {},
   "source": [
    "## Chunk the data"
   ]
  },
  {
   "cell_type": "markdown",
   "metadata": {},
   "source": []
  }
 ],
 "metadata": {
  "kernelspec": {
   "display_name": "llm-env",
   "language": "python",
   "name": "python3"
  },
  "language_info": {
   "codemirror_mode": {
    "name": "ipython",
    "version": 3
   },
   "file_extension": ".py",
   "mimetype": "text/x-python",
   "name": "python",
   "nbconvert_exporter": "python",
   "pygments_lexer": "ipython3",
   "version": "3.11.3"
  }
 },
 "nbformat": 4,
 "nbformat_minor": 2
}
