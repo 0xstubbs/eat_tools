{
 "cells": [
  {
   "cell_type": "markdown",
   "metadata": {},
   "source": [
    "# Document Loader and Q&A\n",
    "This script will load all PDFs from a directory and then upload to a vector store"
   ]
  },
  {
   "cell_type": "markdown",
   "metadata": {},
   "source": [
    "PyPDFDirectoryLoader loads all PDFs in a folder one page at a time (e.g. a PDF with 6 pages will produce a loader with a length of six)."
   ]
  },
  {
   "cell_type": "code",
   "execution_count": null,
   "metadata": {},
   "outputs": [],
   "source": [
    "# Import the necessary packages\n",
    "from langchain.document_loaders import PyPDFDirectoryLoader\n",
    "from langchain.document_loaders import PyMuPDFLoader\n",
    "from langchain.document_loaders import UnstructuredPDFLoader\n",
    "\n",
    "import os\n",
    "from dotenv import load_dotenv"
   ]
  },
  {
   "cell_type": "code",
   "execution_count": null,
   "metadata": {},
   "outputs": [],
   "source": [
    "\n",
    "\n",
    "OPENAI_API_KEY = load_dotenv(\"OPENAI_API_KEY\")\n",
    "\n",
    "target_directory = \"/home/stubbs/Documents/pdfs/\"\n",
    "files = []\n",
    "\n",
    "for pdf_file in os.listdir(target_directory):\n",
    "    print(pdf_file)\n",
    "    files.append(target_directory+pdf_file)\n",
    "print(f'\\nThere are {len(files)} PDF files to load.')\n",
    "    \n",
    "    # loader = PyMuPDFLoader(target_directory+pdf_file)\n",
    "    # data = loader.load()\n",
    "    # print(data[0])"
   ]
  },
  {
   "cell_type": "code",
   "execution_count": null,
   "metadata": {},
   "outputs": [],
   "source": [
    "i=0\n",
    "\n",
    "for count, doc in enumerate(files, start=1):\n",
    "    print(f'Document #: {count}')\n",
    "    loader=PyMuPDFLoader(doc)\n",
    "    # print(type(loader))\n",
    "    data = loader.load()\n",
    "    # print(type(data))\n",
    "    # print(len(data))\n",
    "    print(data[0])\n",
    "    # print(type(data[0]))\n",
    "    # print(data[0])\n",
    "    # print(len(data[0]))\n",
    "    # print(loader.load())"
   ]
  },
  {
   "cell_type": "code",
   "execution_count": null,
   "metadata": {},
   "outputs": [],
   "source": []
  },
  {
   "cell_type": "code",
   "execution_count": null,
   "metadata": {},
   "outputs": [],
   "source": [
    "for count, doc in enumerate(files, start=1):\n",
    "    print('--------------')\n",
    "    print(f'Document #: {count}')\n",
    "    loader = UnstructuredPDFLoader(doc)\n",
    "    data = loader.load()\n",
    "    print(data[0])\n",
    "    print('--------------')\n",
    "    print(f'\\n')"
   ]
  },
  {
   "cell_type": "code",
   "execution_count": null,
   "metadata": {},
   "outputs": [],
   "source": []
  }
 ],
 "metadata": {
  "kernelspec": {
   "display_name": "llm-env",
   "language": "python",
   "name": "python3"
  },
  "language_info": {
   "codemirror_mode": {
    "name": "ipython",
    "version": 3
   },
   "file_extension": ".py",
   "mimetype": "text/x-python",
   "name": "python",
   "nbconvert_exporter": "python",
   "pygments_lexer": "ipython3",
   "version": "3.11.3"
  }
 },
 "nbformat": 4,
 "nbformat_minor": 2
}
