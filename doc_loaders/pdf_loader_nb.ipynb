{
 "cells": [
  {
   "cell_type": "markdown",
   "metadata": {},
   "source": [
    "# Document Loader and Q&A\n",
    "This script will load all PDFs from a directory and then upload to a vector store"
   ]
  },
  {
   "cell_type": "markdown",
   "metadata": {},
   "source": [
    "PyPDFDirectoryLoader loads all PDFs in a folder one page at a time (e.g. a PDF with 6 pages will produce a loader with a length of six)."
   ]
  },
  {
   "cell_type": "code",
   "execution_count": 20,
   "metadata": {},
   "outputs": [
    {
     "name": "stdout",
     "output_type": "stream",
     "text": [
      "accepts-dbt.pdf\n"
     ]
    },
    {
     "ename": "ImportError",
     "evalue": "`PyMuPDF` package not found, please install it with `pip install pymupdf`",
     "output_type": "error",
     "traceback": [
      "\u001b[0;31m---------------------------------------------------------------------------\u001b[0m",
      "\u001b[0;31mModuleNotFoundError\u001b[0m                       Traceback (most recent call last)",
      "File \u001b[0;32m~/anaconda3/envs/llm-env/lib/python3.11/site-packages/langchain/document_loaders/pdf.py:257\u001b[0m, in \u001b[0;36mPyMuPDFLoader.__init__\u001b[0;34m(self, file_path)\u001b[0m\n\u001b[1;32m    256\u001b[0m \u001b[39mtry\u001b[39;00m:\n\u001b[0;32m--> 257\u001b[0m     \u001b[39mimport\u001b[39;00m \u001b[39mfitz\u001b[39;00m  \u001b[39m# noqa:F401\u001b[39;00m\n\u001b[1;32m    258\u001b[0m \u001b[39mexcept\u001b[39;00m \u001b[39mImportError\u001b[39;00m:\n",
      "File \u001b[0;32m~/anaconda3/envs/llm-env/lib/python3.11/site-packages/fitz/__init__.py:1\u001b[0m\n\u001b[0;32m----> 1\u001b[0m \u001b[39mfrom\u001b[39;00m \u001b[39mfrontend\u001b[39;00m \u001b[39mimport\u001b[39;00m \u001b[39m*\u001b[39m\n\u001b[1;32m      2\u001b[0m \u001b[39mimport\u001b[39;00m \u001b[39mtools\u001b[39;00m\n",
      "\u001b[0;31mModuleNotFoundError\u001b[0m: No module named 'frontend'",
      "\nDuring handling of the above exception, another exception occurred:\n",
      "\u001b[0;31mImportError\u001b[0m                               Traceback (most recent call last)",
      "Cell \u001b[0;32mIn[20], line 13\u001b[0m\n\u001b[1;32m     10\u001b[0m \u001b[39mfor\u001b[39;00m pdf_file \u001b[39min\u001b[39;00m os\u001b[39m.\u001b[39mlistdir(target_directory):\n\u001b[1;32m     11\u001b[0m     \u001b[39mprint\u001b[39m(pdf_file)\n\u001b[0;32m---> 13\u001b[0m     loader \u001b[39m=\u001b[39m PyMuPDFLoader(pdf_file)\n\u001b[1;32m     14\u001b[0m     data \u001b[39m=\u001b[39m loader\u001b[39m.\u001b[39mload()\n\u001b[1;32m     15\u001b[0m     \u001b[39mprint\u001b[39m(data[\u001b[39m0\u001b[39m])\n",
      "File \u001b[0;32m~/anaconda3/envs/llm-env/lib/python3.11/site-packages/langchain/document_loaders/pdf.py:259\u001b[0m, in \u001b[0;36mPyMuPDFLoader.__init__\u001b[0;34m(self, file_path)\u001b[0m\n\u001b[1;32m    257\u001b[0m     \u001b[39mimport\u001b[39;00m \u001b[39mfitz\u001b[39;00m  \u001b[39m# noqa:F401\u001b[39;00m\n\u001b[1;32m    258\u001b[0m \u001b[39mexcept\u001b[39;00m \u001b[39mImportError\u001b[39;00m:\n\u001b[0;32m--> 259\u001b[0m     \u001b[39mraise\u001b[39;00m \u001b[39mImportError\u001b[39;00m(\n\u001b[1;32m    260\u001b[0m         \u001b[39m\"\u001b[39m\u001b[39m`PyMuPDF` package not found, please install it with \u001b[39m\u001b[39m\"\u001b[39m\n\u001b[1;32m    261\u001b[0m         \u001b[39m\"\u001b[39m\u001b[39m`pip install pymupdf`\u001b[39m\u001b[39m\"\u001b[39m\n\u001b[1;32m    262\u001b[0m     )\n\u001b[1;32m    264\u001b[0m \u001b[39msuper\u001b[39m()\u001b[39m.\u001b[39m\u001b[39m__init__\u001b[39m(file_path)\n",
      "\u001b[0;31mImportError\u001b[0m: `PyMuPDF` package not found, please install it with `pip install pymupdf`"
     ]
    }
   ],
   "source": [
    "from langchain.document_loaders import PyPDFDirectoryLoader\n",
    "from langchain.document_loaders import PyMuPDFLoader\n",
    "import os\n",
    "from dotenv import load_dotenv\n",
    "\n",
    "OPENAI_API_KEY = load_dotenv(\"OPENAI_API_KEY\")\n",
    "\n",
    "target_directory = \"/home/stubbs/Documents/pdfs/\"\n",
    "\n",
    "for pdf_file in os.listdir(target_directory):\n",
    "    print(pdf_file)\n",
    "    \n",
    "    loader = PyMuPDFLoader(pdf_file)\n",
    "    data = loader.load()\n",
    "    print(data[0])\n",
    "\n",
    "# loader = PyPDFDirectoryLoader(\"/home/stubbs/Documents/pdfs\")\n",
    "# docs = loader.load()"
   ]
  },
  {
   "cell_type": "code",
   "execution_count": 8,
   "metadata": {},
   "outputs": [
    {
     "name": "stdout",
     "output_type": "stream",
     "text": [
      "You have 10 pages in your PDFs\n",
      "There are 280 \n"
     ]
    }
   ],
   "source": [
    "print(f'You have {len(docs)} pages in your PDFs')\n",
    "print(f'There are {len(docs[0].page_content)} ')"
   ]
  },
  {
   "cell_type": "code",
   "execution_count": 9,
   "metadata": {},
   "outputs": [
    {
     "name": "stdout",
     "output_type": "stream",
     "text": [
      "[Document(page_content='DBT Skills Training Handouts and Worksheets, Second Edition\\nDBT Skills Training Handouts and Worksheets, Second Edition DBT Skills \\nTraining Manual, Second EditionDistracting\\n“Wise Mind ACCEPTS.”\\nActivities:\\nContributing:\\nComparisons:\\nEmotions:\\nPushing away:\\nThoughts:\\nSensations:', metadata={'source': '/home/stubbs/Documents/pdfs/accepts-dbt.pdf', 'page': 0}), Document(page_content=' “STOP” Skill  \\n  \\n   Find more online:  DBT.tools      1 of 2 The STOP  skill consists of the following sequence: Stop, Take a step back, Observe, Proceed.  \\n \\nStop \\nWhen you feel that your emotions seem to be in control, stop! Don’t react. Don’t move a muscle. Just freeze \\n(every muscle). Freezing for a moment helps prevent you from doing what your emotions want you to do \\n(which is to act without thinking). Stay in control. Remember, you are the boss of your emotions. Name the \\nemotion – put a label on it.  \\nTake a step back  \\nWhen you are faced with a difficu lt situation, it may be hard to think about how to deal with it on the spot. Give \\nyourself some time to calm down and think. Take a step back from the situation. Get unstuck from what is \\ngoing on. Take a deep breath and continue breathing deeply as long as  you need and until you are back in \\ncontrol. Do not let your emotions control what you do. It is the rare incident, indeed, wherein we need to make \\na split -second decision about anything. Hence, it is okay to take our time to decide how to respond.  \\nObserve  \\nObserve what is happening around you and within you, who is involved, and what are other people doing or \\nsaying. Listen to the Automatic Thoughts that occur…remember those are based on an outdated Belief System. \\nTo make effective choices, it is important not to jump to conclusions. Instead, gather the relevant facts so as to \\nunderstand what is going on and what the available options are.  \\nProceed  \\nProceed mindfully; ask yourself, “What do I want from this situation?” or “What are my goals?” or “What choice \\nmight make this situation better or worse?” or “What behavior will lead me to be successful?” Stay calm, stay in \\ncontrol, and when you have some information about the situation and how that may impact your goals, you will \\nbe better prepared to deal with the  situation effectively. Remember your brain needs time to think all of this \\nthrough.  \\n \\nPractice  \\n \\nInstructions:  Over the next few days, practice the above skill. Find situations that you may have previously \\nbecome very emotional about and acted out. If you cannot find any situations that involve you, think of times \\nrecently where you could have used this skill or imagine how others might have used it.  \\n \\nWhat event occurred to trigger your emotion?  \\n \\n \\nWhat emotion did you experience?  \\n \\n \\nHow intense was the emotion you experienced?  \\n \\n \\nContinue to the next page…  ', metadata={'source': '/home/stubbs/Documents/pdfs/dbt-stop-skill.pdf', 'page': 0}), Document(page_content=' “STOP” Skill  \\n  \\n   Find more online:  DBT.tools      2 of 2 Were you able to just freeze? If so, how did it feel to be in control? (circle one, answer below)  \\nYes No \\n \\n \\n \\nWere you able to step back? (circle one)  \\nYes No \\n \\nDid you remember to take deep breaths and continue breathing until you were in control? (circle one)  \\nYes No \\n \\nWhat were your thoughts?  \\n \\n \\n \\nDid you have any ANTs (Automatic Negative Thoughts)?  \\n \\n \\n \\nWhat did you observe? What was happening around you?  \\n \\n \\n \\nWhat did you decide that you wanted from the situation?  \\n \\n \\n \\nWere you successful in achieving what you wanted? (circle one, answer below)  \\nYes No \\n \\n \\n ', metadata={'source': '/home/stubbs/Documents/pdfs/dbt-stop-skill.pdf', 'page': 1}), Document(page_content='', metadata={'source': '/home/stubbs/Documents/pdfs/when-to-use-crisis-skills.pdf', 'page': 0}), Document(page_content='', metadata={'source': '/home/stubbs/Documents/pdfs/cognitive-distortions.pdf', 'page': 0}), Document(page_content='', metadata={'source': '/home/stubbs/Documents/pdfs/cognitive-distortions.pdf', 'page': 1}), Document(page_content='', metadata={'source': '/home/stubbs/Documents/pdfs/cognitive-distortions.pdf', 'page': 2}), Document(page_content='', metadata={'source': '/home/stubbs/Documents/pdfs/cognitive-distortions.pdf', 'page': 3}), Document(page_content='', metadata={'source': '/home/stubbs/Documents/pdfs/cognitive-distortions.pdf', 'page': 4}), Document(page_content='', metadata={'source': '/home/stubbs/Documents/pdfs/cognitive-distortions.pdf', 'page': 5})]\n"
     ]
    }
   ],
   "source": [
    "print(docs)"
   ]
  },
  {
   "cell_type": "code",
   "execution_count": null,
   "metadata": {},
   "outputs": [],
   "source": []
  }
 ],
 "metadata": {
  "kernelspec": {
   "display_name": "llm-env",
   "language": "python",
   "name": "python3"
  },
  "language_info": {
   "codemirror_mode": {
    "name": "ipython",
    "version": 3
   },
   "file_extension": ".py",
   "mimetype": "text/x-python",
   "name": "python",
   "nbconvert_exporter": "python",
   "pygments_lexer": "ipython3",
   "version": "3.11.3"
  },
  "orig_nbformat": 4
 },
 "nbformat": 4,
 "nbformat_minor": 2
}
